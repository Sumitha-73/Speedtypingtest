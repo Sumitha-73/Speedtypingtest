{
 "cells": [
  {
   "cell_type": "markdown",
   "id": "57d7850d",
   "metadata": {},
   "source": [
    "# SUMITHA.V\n",
    "SPEED TYPING TEST"
   ]
  },
  {
   "cell_type": "code",
   "execution_count": 7,
   "id": "c6157379",
   "metadata": {},
   "outputs": [],
   "source": [
    "import time\n"
   ]
  },
  {
   "cell_type": "code",
   "execution_count": 8,
   "id": "9e29699b",
   "metadata": {},
   "outputs": [],
   "source": [
    "test_text = \"In this article, we will create a program test the typing speed of the user with a basic GUI application using Python language. Here the Python libraries like Tkinter and Timeit are used for the GUI and Calculation of time for speed testing respectively. Also, the Random function is used to fetch the random words for the speed testing calculation.\""
   ]
  },
  {
   "cell_type": "code",
   "execution_count": 9,
   "id": "7e4b3af8",
   "metadata": {},
   "outputs": [
    {
     "name": "stdout",
     "output_type": "stream",
     "text": [
      "Welcome to the Speed Typing Test!\n",
      "Press Enter to start the test.\n",
      "In this article, we will create a program test the typing speed of the user with a basic GUI application using Python language. Here the Python libraries like Tkinter and Timeit are used for the GUI and Calculation of time for speed testing respectively. Also, the Random function is used to fetch the random words for the speed testing calculation.\n",
      "hukkshhiewhsiriliihfsjhrrikhwhalq;hfjfgahvsabgyjqrjekajrallhfhaiehfejkahihrahf;LRWJKGFHewrhfei\n",
      "\n",
      "Time elapsed: 12.95 seconds\n",
      "Words typed: 1\n",
      "Typing speed: 4.63 WPM\n"
     ]
    }
   ],
   "source": [
    "def speed_typing_test():\n",
    "    print(\"Welcome to the Speed Typing Test!\")\n",
    "    input(\"Press Enter to start the test.\")\n",
    "\n",
    "    start_time = time.time()\n",
    "\n",
    "    user_input = input(test_text + \"\\n\")\n",
    "\n",
    "    end_time = time.time()\n",
    "    elapsed_time = end_time - start_time\n",
    "\n",
    "    # Calculate the user's typing speed in words per minute (WPM)\n",
    "    words_typed = len(user_input.split())\n",
    "    wpm = words_typed / (elapsed_time / 60)\n",
    "\n",
    "    print(f\"\\nTime elapsed: {round(elapsed_time, 2)} seconds\")\n",
    "    print(f\"Words typed: {words_typed}\")\n",
    "    print(f\"Typing speed: {round(wpm, 2)} WPM\")\n",
    "\n",
    "speed_typing_test()\n"
   ]
  },
  {
   "cell_type": "code",
   "execution_count": null,
   "id": "fcb2a1a7",
   "metadata": {},
   "outputs": [],
   "source": []
  }
 ],
 "metadata": {
  "kernelspec": {
   "display_name": "Python 3",
   "language": "python",
   "name": "python3"
  },
  "language_info": {
   "codemirror_mode": {
    "name": "ipython",
    "version": 3
   },
   "file_extension": ".py",
   "mimetype": "text/x-python",
   "name": "python",
   "nbconvert_exporter": "python",
   "pygments_lexer": "ipython3",
   "version": "3.8.8"
  }
 },
 "nbformat": 4,
 "nbformat_minor": 5
}
